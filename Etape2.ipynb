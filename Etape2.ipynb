{
 "cells": [
  {
   "cell_type": "markdown",
   "id": "003f4e1c-6c84-4b1a-b89f-c095dfc5ecaf",
   "metadata": {},
   "source": [
    "Mécanisme de Fixing"
   ]
  },
  {
   "cell_type": "code",
   "execution_count": null,
   "id": "59fef11c-0632-4258-aac5-11c89dbc12d5",
   "metadata": {},
   "outputs": [],
   "source": [
    "    def execute_orders_at_fixing_price(self, prix_fixe: float):\n",
    "        \"\"\"\n",
    "        Exécute les ordres à un prix fixe donné.\n",
    "        Args:\n",
    "            prix_fixe (float): Le prix auquel les ordres doivent être exécutés.\n",
    "        \"\"\"\n",
    "        # Sélectionne les ordres d'achat et de vente qui peuvent être exécutés au prix fixe\n",
    "        ordres_achat_correspondants = [ordre for ordre in self.ordres_achat if ordre.prix >= prix_fixe]\n",
    "        ordres_vente_correspondants = [ordre for ordre in self.ordres_vente if ordre.prix <= prix_fixe]\n",
    "\n",
    "        for ordre_achat in ordres_achat_correspondants:\n",
    "            for ordre_vente in ordres_vente_correspondants:\n",
    "                if ordre_achat.client_id != ordre_vente.client_id:\n",
    "                    # Détermine la quantité pouvant être échangée\n",
    "                    quantite_executee = min(ordre_achat.quantite, ordre_vente.quantite)\n",
    "                    prix_execute = prix_fixe  # Le prix d'exécution est le prix fixe\n",
    "                    timestamp = datetime.datetime.now()  # Timestamp de l'exécution\n",
    "\n",
    "                    # Enregistre la transaction dans le fichier CSV\n",
    "                    self.enregistrer_transaction_csv(ordre_achat.identifiant, ordre_vente.identifiant, quantite_executee, prix_execute, timestamp)\n",
    "\n",
    "                    # Réduit la quantité des ordres après exécution\n",
    "                    ordre_achat.quantite -= quantite_executee\n",
    "                    ordre_vente.quantite -= quantite_executee\n",
    "\n",
    "                    # Supprime les ordres complètement exécutés de leurs listes respectives\n",
    "                    if ordre_achat.quantite == 0:\n",
    "                        self.ordres_achat.remove(ordre_achat)\n",
    "                    if ordre_vente.quantite == 0:\n",
    "                        self.ordres_vente.remove(ordre_vente)\n",
    "\n",
    "                    print(f\"Ordre d'achat {ordre_achat.identifiant} et ordre de vente {ordre_vente.identifiant} exécutés au prix de {prix_execute}.\")\n"
   ]
  }
 ],
 "metadata": {
  "kernelspec": {
   "display_name": "Python 3 (ipykernel)",
   "language": "python",
   "name": "python3"
  },
  "language_info": {
   "codemirror_mode": {
    "name": "ipython",
    "version": 3
   },
   "file_extension": ".py",
   "mimetype": "text/x-python",
   "name": "python",
   "nbconvert_exporter": "python",
   "pygments_lexer": "ipython3",
   "version": "3.12.2"
  }
 },
 "nbformat": 4,
 "nbformat_minor": 5
}

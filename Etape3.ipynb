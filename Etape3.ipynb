{
 "cells": [
  {
   "cell_type": "markdown",
   "id": "da06250a-f138-4953-bb24-ac57f2d1cd8f",
   "metadata": {},
   "source": [
    "Interface utilisateur simplifiée"
   ]
  },
  {
   "cell_type": "code",
   "execution_count": null,
   "id": "ae432400-2741-4cd0-90aa-971f246074e8",
   "metadata": {},
   "outputs": [],
   "source": [
    "def main():\n",
    "    # Création d'une instance de CarnetOrdres pour gérer les ordres de marché\n",
    "    carnet_ordres = CarnetOrdres()\n",
    "\n",
    "    # Boucle infinie pour permettre à l'utilisateur de choisir une action multiple fois\n",
    "    while True:\n",
    "        # Affichage des options disponibles pour l'utilisateur\n",
    "        print(\"\\n1. Ajouter un ordre\\n2. Afficher le carnet d'ordres\\n3. Supprimer un ordre\\n4. Exécuter ordres à prix fixe\\n5. Quitter\")\n",
    "        action = input(\"Choisissez une action : \").strip().lower()  # Lecture et normalisation de l'entrée utilisateur\n",
    "\n",
    "        # Bloc try pour gérer les erreurs d'entrée, comme un type incorrect\n",
    "        try:\n",
    "            if action == '1':\n",
    "                # Si l'utilisateur choisit 1, on ajoute un nouvel ordre au carnet\n",
    "                client_id = int(input(\"ID du client (nombre entier unique) : \"))  # Demande de l'ID du client\n",
    "                type_ordre = ''\n",
    "                # Boucle pour s'assurer que l'entrée du type d'ordre est valide\n",
    "                while type_ordre not in ['achat', 'vente']:\n",
    "                    type_ordre = input(\"Type d'ordre (achat/vente) : \").strip().lower()\n",
    "                    if type_ordre not in ['achat', 'vente']:\n",
    "                        print(\"Entrée invalide. Veuillez saisir 'achat' ou 'vente'.\")\n",
    "                quantite = float(input(\"Quantité : \"))  # Demande de la quantité pour l'ordre\n",
    "                prix = float(input(\"Prix : \"))  # Demande du prix pour l'ordre\n",
    "                # Appel de la méthode pour ajouter l'ordre dans le carnet\n",
    "                carnet_ordres.ajouter_ordre(client_id, type_ordre, quantite, prix)\n",
    "            elif action == '2':\n",
    "                # Si l'utilisateur choisit 2, on affiche les ordres actuels dans le carnet\n",
    "                carnet_ordres.afficher_carnet()\n",
    "            elif action == '3':\n",
    "                # Si l'utilisateur choisit 3, il peut supprimer un de ses ordres\n",
    "                identifiant = input(\"Entrez l'identifiant de l'ordre à supprimer : \").strip().lower()\n",
    "                carnet_ordres.remove_order(identifiant)\n",
    "            elif action == '4':\n",
    "                # Si l'utilisateur choisit 4, il execute les ordres à un prix fixé\n",
    "                prix_fixe = float(input(\"Entrez le prix fixe pour exécuter les ordres : \"))\n",
    "                carnet_ordres.execute_orders_at_fixing_price(prix_fixe)\n",
    "            elif action == '5':\n",
    "                # Si l'utilisateur choisit 5, finalement on quitte le programme\n",
    "                break\n",
    "            else:\n",
    "                # Gestion d'une entrée invalide dans le menu\n",
    "                print(\"Action invalide. Veuillez choisir une option valide.\")\n",
    "        except ValueError as e:\n",
    "            # Affichage de l'erreur si la conversion de type échoue (p. ex., entrée non numérique là où un nombre est attendu)\n",
    "            print(e)\n",
    "\n",
    "# Cette condition vérifie que le script est exécuté comme programme principal et non importé comme module\n",
    "if __name__ == \"__main__\":\n",
    "    main()"
   ]
  }
 ],
 "metadata": {
  "kernelspec": {
   "display_name": "Python 3 (ipykernel)",
   "language": "python",
   "name": "python3"
  },
  "language_info": {
   "codemirror_mode": {
    "name": "ipython",
    "version": 3
   },
   "file_extension": ".py",
   "mimetype": "text/x-python",
   "name": "python",
   "nbconvert_exporter": "python",
   "pygments_lexer": "ipython3",
   "version": "3.12.2"
  }
 },
 "nbformat": 4,
 "nbformat_minor": 5
}

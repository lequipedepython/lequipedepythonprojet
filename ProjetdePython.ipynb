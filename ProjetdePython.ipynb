{
 "cells": [
  {
   "cell_type": "markdown",
   "id": "9f75170c-4293-40fb-b056-175d19c0fd54",
   "metadata": {},
   "source": [
    "Structure de Base"
   ]
  },
  {
   "cell_type": "code",
   "execution_count": null,
   "id": "0e403e08-ae93-41e3-8372-1f271584237a",
   "metadata": {},
   "outputs": [],
   "source": [
    "class Order:\n",
    "    def __init__(self, order_id, order_type, quantity, price):\n",
    "        self.order_id = order_id\n",
    "        self.order_type = order_type\n",
    "        self.quantity = quantity\n",
    "        self.price = price\n",
    "\n",
    "class OrderBook:\n",
    "    def __init__(self):\n",
    "        self.buy_orders = []\n",
    "        self.sell_orders = []\n",
    "\n",
    "    def add_order(self, order):\n",
    "        if order.order_type == 'buy':\n",
    "            self.buy_orders.append(order)\n",
    "            self.buy_orders.sort(key=lambda x: (-x.price, x.order_id))\n",
    "        else:\n",
    "            self.sell_orders.append(order)\n",
    "            self.sell_orders.sort(key=lambda x: (x.price, x.order_id))\n",
    "        self.execute_orders()\n",
    "\n",
    "    def execute_orders(self):\n",
    "        while self.buy_orders and self.sell_orders and self.buy_orders[0].price >= self.sell_orders[0].price:\n",
    "            buy_order = self.buy_orders[0]\n",
    "            sell_order = self.sell_orders[0]\n",
    "            executed_quantity = min(buy_order.quantity, sell_order.quantity)\n",
    "            executed_price = sell_order.price\n",
    "            \n",
    "            print(f\"Executed order: {executed_quantity} at {executed_price}\")\n",
    "            \n",
    "            if buy_order.quantity > sell_order.quantity:\n",
    "                buy_order.quantity -= executed_quantity\n",
    "                self.sell_orders.pop(0)\n",
    "            elif buy_order.quantity < sell_order.quantity:\n",
    "                sell_order.quantity -= executed_quantity\n",
    "                self.buy_orders.pop(0)\n",
    "            else:\n",
    "                self.buy_orders.pop(0)\n",
    "                self.sell_orders.pop(0)"
   ]
  },
  {
   "cell_type": "markdown",
   "id": "61ee8070-881e-4952-8b5b-04501bd8d73a",
   "metadata": {},
   "source": [
    "Mécanisme de Fixing"
   ]
  },
  {
   "cell_type": "code",
   "execution_count": null,
   "id": "f71d105c-1026-4c0b-b958-7fd1b3957648",
   "metadata": {},
   "outputs": [],
   "source": [
    "def fixing_mechanism(self):\n",
    "        # Trouvez le prix où le volume d'ordres d'achat et de vente correspondant est maximal.\n",
    "        # Cette implémentation simplifiée choisit juste le prix du premier ordre d'achat.\n",
    "        if self.buy_orders and self.sell_orders:\n",
    "            fixing_price = self.buy_orders[0].price\n",
    "            total_quantity = 0\n",
    "            for buy_order in self.buy_orders:\n",
    "                if buy_order.price >= fixing_price:\n",
    "                    for sell_order in self.sell_orders:\n",
    "                        if sell_order.price <= fixing_price:\n",
    "                            total_quantity += min(buy_order.quantity, sell_order.quantity)\n",
    "            print(f\"Fixing price: {fixing_price} with total quantity: {total_quantity}\")"
   ]
  },
  {
   "cell_type": "markdown",
   "id": "47d77e69-32e8-405a-9d0c-d10d1afbab86",
   "metadata": {},
   "source": [
    "Interface Utilisateur Simplifiée"
   ]
  },
  {
   "cell_type": "code",
   "execution_count": null,
   "id": "44eea67a-10d6-4850-b3b8-012a746a2ec8",
   "metadata": {},
   "outputs": [],
   "source": [
    "def main():\n",
    "    order_book = OrderBook()\n",
    "    while True:\n",
    "        action = input(\"Action (add/fix/exit): \")\n",
    "        if action == 'add':\n",
    "            order_id = int(input(\"Order ID: \"))\n",
    "            order_type = input(\"Order Type (buy/sell): \")\n",
    "            quantity = int(input(\"Quantity: \"))\n",
    "            price = float(input(\"Price: \"))\n",
    "            order = Order(order_id, order_type, quantity, price)\n",
    "            order_book.add_order(order)\n",
    "        elif action == 'fix':\n",
    "            order_book.fixing_mechanism()\n",
    "        elif action == 'exit':\n",
    "            break\n",
    "\n",
    "if __name__ == \"__main__\":\n",
    "    main()"
   ]
  },
  {
   "cell_type": "markdown",
   "id": "10c7d7e5-41d6-4016-a051-2a41aa642b9a",
   "metadata": {},
   "source": [
    "Amélioration du Mécanisme de Fixing"
   ]
  },
  {
   "cell_type": "code",
   "execution_count": null,
   "id": "03d0e9d3-2d3c-443a-ac2f-523e7622f697",
   "metadata": {},
   "outputs": [],
   "source": [
    "def determine_fixing_price(self):\n",
    "    if not self.buy_orders or not self.sell_orders:\n",
    "        print(\"Not enough orders to determine fixing price.\")\n",
    "        return None\n",
    "\n",
    "    # Créer un dictionnaire pour stocker le volume total exécutable à chaque prix\n",
    "    executable_volumes = {}\n",
    "    for buy_order in self.buy_orders:\n",
    "        for sell_order in self.sell_orders:\n",
    "            if buy_order.price >= sell_order.price:\n",
    "                price = sell_order.price\n",
    "                executable_volumes[price] = executable_volumes.get(price, 0) + min(buy_order.quantity, sell_order.quantity)\n",
    "                \n",
    "    if not executable_volumes:\n",
    "        print(\"No matching orders for fixing.\")\n",
    "        return None\n",
    "\n",
    "    # Trouver le prix avec le volume exécutable maximal\n",
    "    fixing_price = max(executable_volumes, key=executable_volumes.get)\n",
    "    print(f\"Fixing price determined: {fixing_price} with total volume: {executable_volumes[fixing_price]}\")\n",
    "    return fixing_price\n",
    "\n",
    "def perform_fixing(self):\n",
    "    fixing_price = self.determine_fixing_price()\n",
    "    if fixing_price is not None:\n",
    "        self.execute_orders_at_fixing_price(fixing_price)\n",
    "\n",
    "def execute_orders_at_fixing_price(self, fixing_price):\n",
    "    # Cette fonction exécuterait les ordres au prix de fixing, similaire à execute_orders mais spécifique pour le fixing\n",
    "    pass"
   ]
  },
  {
   "cell_type": "markdown",
   "id": "6d4c953a-1770-4ad6-8d6f-eeb0ad4b6861",
   "metadata": {},
   "source": [
    "Amélioration de l'Interface Utilisateur"
   ]
  },
  {
   "cell_type": "code",
   "execution_count": null,
   "id": "30ca500e-fe96-4ea0-8401-17641d0893f2",
   "metadata": {},
   "outputs": [],
   "source": [
    "def main():\n",
    "    order_book = OrderBook()\n",
    "    while True:\n",
    "        print(\"\\n1. Add Order\\n2. Perform Fixing\\n3. View Order Book\\n4. Exit\")\n",
    "        action = input(\"Choose an action: \")\n",
    "        if action == '1':\n",
    "            order_id = int(input(\"Order ID: \"))\n",
    "            order_type = input(\"Order Type (buy/sell): \")\n",
    "            quantity = int(input(\"Quantity: \"))\n",
    "            price = float(input(\"Price: \"))\n",
    "            order = Order(order_id, order_type, quantity, price)\n",
    "            order_book.add_order(order)\n",
    "        elif action == '2':\n",
    "            order_book.perform_fixing()\n",
    "        elif action == '3':\n",
    "            print(\"Buy Orders:\")\n",
    "            for order in order_book.buy_orders:\n",
    "                print(f\"ID: {order.order_id}, Price: {order.price}, Quantity: {order.quantity}\")\n",
    "            print(\"Sell Orders:\")\n",
    "            for order in order_book.sell_orders:\n",
    "                print(f\"ID: {order.order_id}, Price: {order.price}, Quantity: {order.quantity}\")\n",
    "        elif action == '4':\n",
    "            break\n",
    "        else:\n",
    "            print(\"Invalid action. Please choose a valid option.\")"
   ]
  }
 ],
 "metadata": {
  "kernelspec": {
   "display_name": "Python 3 (ipykernel)",
   "language": "python",
   "name": "python3"
  },
  "language_info": {
   "codemirror_mode": {
    "name": "ipython",
    "version": 3
   },
   "file_extension": ".py",
   "mimetype": "text/x-python",
   "name": "python",
   "nbconvert_exporter": "python",
   "pygments_lexer": "ipython3",
   "version": "3.12.2"
  }
 },
 "nbformat": 4,
 "nbformat_minor": 5
}

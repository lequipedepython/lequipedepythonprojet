{
 "cells": [
  {
   "cell_type": "markdown",
   "id": "fce9ff60-0c90-42b1-ab6d-4e5fa8b68ea3",
   "metadata": {},
   "source": [
    "Mécanisme de Fixing"
   ]
  },
  {
   "cell_type": "code",
   "execution_count": null,
   "id": "f04500e7-9cec-431a-abb0-bb538420bcd8",
   "metadata": {},
   "outputs": [],
   "source": [
    "def fixing_mechanism(self):\n",
    "        # On trouve le prix où le volume d'ordres d'achat et de vente correspondant est maximal.\n",
    "        # Cette implémentation simplifiée choisit juste le prix du premier ordre d'achat.\n",
    "        if self.buy_orders and self.sell_orders:\n",
    "            fixing_price = self.buy_orders[0].price\n",
    "            total_quantity = 0\n",
    "            for buy_order in self.buy_orders:\n",
    "                if buy_order.price >= fixing_price:\n",
    "                    for sell_order in self.sell_orders:\n",
    "                        if sell_order.price <= fixing_price:\n",
    "                            total_quantity += min(buy_order.quantity, sell_order.quantity)\n",
    "            print(f\"Fixing price: {fixing_price} with total quantity: {total_quantity}\")"
   ]
  }
 ],
 "metadata": {
  "kernelspec": {
   "display_name": "Python 3 (ipykernel)",
   "language": "python",
   "name": "python3"
  },
  "language_info": {
   "codemirror_mode": {
    "name": "ipython",
    "version": 3
   },
   "file_extension": ".py",
   "mimetype": "text/x-python",
   "name": "python",
   "nbconvert_exporter": "python",
   "pygments_lexer": "ipython3",
   "version": "3.12.2"
  }
 },
 "nbformat": 4,
 "nbformat_minor": 5
}

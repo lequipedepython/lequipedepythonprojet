{
 "cells": [
  {
   "cell_type": "markdown",
   "id": "2262c15d-a6bc-4c58-9e54-df4e9b124ef2",
   "metadata": {},
   "source": [
    "Interface Utilisateur Simplifiée"
   ]
  },
  {
   "cell_type": "code",
   "execution_count": null,
   "id": "8296e3e7-241e-4c57-8122-d4149c9caa35",
   "metadata": {},
   "outputs": [],
   "source": [
    "def main():\n",
    "    order_book = OrderBook()\n",
    "    while True:\n",
    "        action = input(\"Action (add/fix/exit): \")\n",
    "        if action == 'add':\n",
    "            order_id = int(input(\"Order ID: \"))\n",
    "            order_type = input(\"Order Type (buy/sell): \")\n",
    "            quantity = int(input(\"Quantity: \"))\n",
    "            price = float(input(\"Price: \"))\n",
    "            order = Order(order_id, order_type, quantity, price)\n",
    "            order_book.add_order(order)\n",
    "        elif action == 'fix':\n",
    "            order_book.fixing_mechanism()\n",
    "        elif action == 'exit':\n",
    "            break\n",
    "\n",
    "if __name__ == \"__main__\":\n",
    "    main()"
   ]
  }
 ],
 "metadata": {
  "kernelspec": {
   "display_name": "Python 3 (ipykernel)",
   "language": "python",
   "name": "python3"
  },
  "language_info": {
   "codemirror_mode": {
    "name": "ipython",
    "version": 3
   },
   "file_extension": ".py",
   "mimetype": "text/x-python",
   "name": "python",
   "nbconvert_exporter": "python",
   "pygments_lexer": "ipython3",
   "version": "3.12.2"
  }
 },
 "nbformat": 4,
 "nbformat_minor": 5
}

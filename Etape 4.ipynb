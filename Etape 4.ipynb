{
 "cells": [
  {
   "cell_type": "markdown",
   "id": "76baa57b-cc56-4cf1-9e6c-a14881e88802",
   "metadata": {},
   "source": [
    "Étape 4 : Améliorations et Finalisation"
   ]
  },
  {
   "cell_type": "markdown",
   "id": "d85d5024-0e82-4284-a98b-a2aaf18d60ed",
   "metadata": {},
   "source": [
    "Amélioration du Mécanisme de Fixing :"
   ]
  },
  {
   "cell_type": "code",
   "execution_count": null,
   "id": "5b229532-9c12-430c-be45-1a67b534f64c",
   "metadata": {},
   "outputs": [],
   "source": [
    "def determine_fixing_price(self):\n",
    "    # On vérifie s'il y a suffisamment d'ordres pour déterminer un prix de fixing\n",
    "    if not self.buy_orders or not self.sell_orders:\n",
    "        print(\"Pas assez d'ordres pour déterminer le prix de fixing.\")\n",
    "        return None  # Retourne None s'il n'y a pas assez d'ordres d'achat ou de vente\n",
    "\n",
    "    # On crée un dictionnaire pour stocker le volume total exécutable à chaque prix\n",
    "    executable_volumes = {}\n",
    "    for buy_order in self.buy_orders:\n",
    "        for sell_order in self.sell_orders:\n",
    "            if buy_order.price >= sell_order.price:\n",
    "                price = sell_order.price  # Prix où l'achat et la vente peuvent se rencontrer\n",
    "                # Accumulation du volume exécutable pour chaque prix où les ordres se croisent\n",
    "                executable_volumes[price] = executable_volumes.get(price, 0) + min(buy_order.quantity, sell_order.quantity)\n",
    "\n",
    "    # Ici, on s'assure de l'existence d'ordres correspondants pour le fixing\n",
    "    if not executable_volumes:\n",
    "        print(\"Aucun ordre correspondant pour le fixing.\")\n",
    "        return None  # Retourne None si aucun ordre ne correspond\n",
    "\n",
    "    # On cherche à trouver le prix avec le volume exécutable maximal\n",
    "    fixing_price = max(executable_volumes, key=executable_volumes.get)\n",
    "    print(f\"Prix de fixing déterminé : {fixing_price} avec un volume total : {executable_volumes[fixing_price]}\")\n",
    "    return fixing_price  # Retourne le prix de fixing déterminé\n",
    "\n",
    "def perform_fixing(self):\n",
    "    # Détermination du prix de fixing et exécution des ordres à ce prix\n",
    "    fixing_price = self.determine_fixing_price()\n",
    "    if fixing_price is not None:\n",
    "        self.execute_orders_at_fixing_price(fixing_price)  # Exécution des ordres au prix de fixing si un prix a été déterminé\n",
    "\n",
    "def execute_orders_at_fixing_price(self, fixing_price):\n",
    "     # Cette fonction exécuterait les ordres au prix de fixing, similaire à execute_orders mais spécifique pour le fixing\n",
    "    pass\n"
   ]
  },
  {
   "cell_type": "markdown",
   "id": "22b0b5e1-2537-43e4-83c5-1d9db1b9a640",
   "metadata": {},
   "source": [
    "Amélioration de l'Interface Utilisateur :"
   ]
  },
  {
   "cell_type": "code",
   "execution_count": null,
   "id": "4d01cd1a-f264-4cff-a1e6-f3f1d0d2d6dd",
   "metadata": {},
   "outputs": [],
   "source": [
    "def main():\n",
    "    order_book = OrderBook()\n",
    "    while True:\n",
    "        # On affiche les options disponibles pour l'utilisateur\n",
    "        print(\"\\n1. Ajouter un ordre\\n2. Effectuer un fixing\\n3. Voir le carnet d'ordres\\n4. Quitter\")\n",
    "        action = input(\"Choisissez une action : \")\n",
    "        if action == '1':\n",
    "            # Si l'utilisateur choisit 1, on ajoute un nouvel ordre au carnet\n",
    "            order_id = int(input(\"ID de l'ordre : \"))\n",
    "            order_type = input(\"Type d'ordre (achat/vente) : \")\n",
    "            quantity = int(input(\"Quantité : \"))\n",
    "            price = float(input(\"Prix : \"))\n",
    "            order = Order(order_id, order_type, quantity, price)\n",
    "            order_book.add_order(order)\n",
    "        elif action == '2':\n",
    "            # Si l'utilisateur choisit 2, on effectue un fixing pour déterminer le prix de marché\n",
    "            order_book.perform_fixing()\n",
    "        elif action == '3':\n",
    "            # Si l'utilisateur choisit 3, on affiche les ordres d'achat et de vente dans le carnet\n",
    "            print(\"Ordres d'achat :\")\n",
    "            for order in order_book.buy_orders:\n",
    "                print(f\"ID : {order.order_id}, Prix : {order.price}, Quantité : {order.quantity}\")\n",
    "            print(\"Ordres de vente :\")\n",
    "            for order in order_book.sell_orders:\n",
    "                print(f\"ID : {order.order_id}, Prix : {order.price}, Quantité : {order.quantity}\")\n",
    "        elif action == '4':\n",
    "            # Si l'utilisateur choisit 4, finalement on quitte le programme\n",
    "            break\n",
    "        else:\n",
    "            # Ici on gère les entrées invalides\n",
    "            print(\"Action invalide. Veuillez choisir une option valide.\")"
   ]
  }
 ],
 "metadata": {
  "kernelspec": {
   "display_name": "Python 3 (ipykernel)",
   "language": "python",
   "name": "python3"
  },
  "language_info": {
   "codemirror_mode": {
    "name": "ipython",
    "version": 3
   },
   "file_extension": ".py",
   "mimetype": "text/x-python",
   "name": "python",
   "nbconvert_exporter": "python",
   "pygments_lexer": "ipython3",
   "version": "3.12.2"
  }
 },
 "nbformat": 4,
 "nbformat_minor": 5
}

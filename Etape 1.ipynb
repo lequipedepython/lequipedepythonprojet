{
 "cells": [
  {
   "cell_type": "markdown",
   "id": "91a3663b-8489-4a5d-8ce9-647ab85fbfe0",
   "metadata": {},
   "source": [
    "Structure de Base"
   ]
  },
  {
   "cell_type": "code",
   "execution_count": null,
   "id": "12ad2028-42c2-48a5-b72b-dcde8aba0b8d",
   "metadata": {},
   "outputs": [],
   "source": [
    "# Définition d'une classe pour les ordres de marché\n",
    "class Ordre:\n",
    "    # Initialisation de la classe avec des attributs spécifiques pour chaque ordre\n",
    "    def __init__(self, identifiant, type_ordre, quantite, prix):\n",
    "        self.identifiant = identifiant  # Identifiant unique de l'ordre\n",
    "        self.type_ordre = type_ordre  # Type de l'ordre, 'achat' ou 'vente'\n",
    "        self.quantite = quantite  # Quantité d'actions concernées par l'ordre\n",
    "        self.prix = prix  # Prix unitaire de l'action\n",
    "\n",
    "# Définition d'une classe pour gérer le carnet d'ordres\n",
    "class CarnetOrdres:\n",
    "    # Initialisation du carnet d'ordres avec deux listes vides pour les achats et les ventes\n",
    "    def __init__(self):\n",
    "        self.ordres_achat = []  # Liste pour stocker les ordres d'achat\n",
    "        self.ordres_vente = []  # Liste pour stocker les ordres de vente\n",
    "\n",
    "    # Méthode pour ajouter un ordre au carnet\n",
    "    def ajouter_ordre(self, ordre):\n",
    "        if ordre.type_ordre == 'achat':\n",
    "            self.ordres_achat.append(ordre)  # Ajout de l'ordre d'achat à la liste\n",
    "            # Tri des ordres d'achat pour que le prix le plus élevé soit en premier et par identifiant en cas d'égalité de prix\n",
    "            self.ordres_achat.sort(key=lambda x: (-x.prix, x.identifiant))\n",
    "        elif ordre.type_ordre == 'vente':\n",
    "            self.ordres_vente.append(ordre)  # Ajout de l'ordre de vente à la liste\n",
    "            # Tri des ordres de vente pour que le prix le plus bas soit en premier et par identifiant en cas d'égalité de prix\n",
    "            self.ordres_vente.sort(key=lambda x: (x.prix, x.identifiant))\n",
    "        else:\n",
    "            # Gestion des erreurs si le type d'ordre n'est ni 'achat' ni 'vente'\n",
    "            raise ValueError(\"Le type d'ordre doit être 'achat' ou 'vente'\")\n",
    "        self.executer_ordres()  # Appel de la méthode pour tenter d'exécuter des ordres après chaque ajout\n",
    "\n",
    "    # Méthode pour exécuter les ordres lorsque les conditions le permettent\n",
    "    def executer_ordres(self):\n",
    "        # Exécution des ordres tant que le prix d'achat est supérieur ou égal au prix de vente et qu'il y a des ordres des deux côtés\n",
    "        while self.ordres_achat and self.ordres_vente and self.ordres_achat[0].prix >= self.ordres_vente[0].prix:\n",
    "            ordre_achat = self.ordres_achat[0]  # Ordre d'achat au prix le plus élevé\n",
    "            ordre_vente = self.ordres_vente[0]  # Ordre de vente au prix le plus bas\n",
    "            quantite_executee = min(ordre_achat.quantite, ordre_vente.quantite)  # Quantité qui sera effectivement échangée\n",
    "            prix_execute = ordre_vente.prix  # Prix auquel l'échange est effectué\n",
    "\n",
    "            print(f\"Ordre exécuté : {quantite_executee} actions à {prix_execute} € par action\")  # Affichage de l'ordre exécuté\n",
    "\n",
    "            # Mise à jour des quantités restantes pour les ordres concernés\n",
    "            ordre_achat.quantite -= quantite_executee\n",
    "            ordre_vente.quantite -= quantite_executee\n",
    "            \n",
    "            # Retrait des ordres de la liste si la quantité devient nulle\n",
    "            if ordre_achat.quantite == 0:\n",
    "                self.ordres_achat.pop(0)\n",
    "            if ordre_vente.quantite == 0:\n",
    "                self.ordres_vente.pop(0)\n"
   ]
  }
 ],
 "metadata": {
  "kernelspec": {
   "display_name": "Python 3 (ipykernel)",
   "language": "python",
   "name": "python3"
  },
  "language_info": {
   "codemirror_mode": {
    "name": "ipython",
    "version": 3
   },
   "file_extension": ".py",
   "mimetype": "text/x-python",
   "name": "python",
   "nbconvert_exporter": "python",
   "pygments_lexer": "ipython3",
   "version": "3.12.2"
  }
 },
 "nbformat": 4,
 "nbformat_minor": 5
}

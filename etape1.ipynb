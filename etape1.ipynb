{
 "cells": [
  {
   "cell_type": "markdown",
   "id": "52a279e8-ec5e-46e7-a08d-3d6d002d30a6",
   "metadata": {},
   "source": [
    "Structure de Base"
   ]
  },
  {
   "cell_type": "code",
   "execution_count": null,
   "id": "80bcde8e-38cc-43c1-adfb-ffe652f6f700",
   "metadata": {},
   "outputs": [],
   "source": [
    "class Order:\n",
    "    def __init__(self, order_id, order_type, quantity, price):\n",
    "        self.order_id = order_id\n",
    "        self.order_type = order_type\n",
    "        self.quantity = quantity\n",
    "        self.price = price\n",
    "\n",
    "class OrderBook:\n",
    "    def __init__(self):\n",
    "        self.buy_orders = []\n",
    "        self.sell_orders = []\n",
    "\n",
    "    def add_order(self, order):\n",
    "        if order.order_type == 'buy':\n",
    "            self.buy_orders.append(order)\n",
    "            self.buy_orders.sort(key=lambda x: (-x.price, x.order_id))\n",
    "        else:\n",
    "            self.sell_orders.append(order)\n",
    "            self.sell_orders.sort(key=lambda x: (x.price, x.order_id))\n",
    "        self.execute_orders()\n",
    "\n",
    "    def execute_orders(self):\n",
    "        while self.buy_orders and self.sell_orders and self.buy_orders[0].price >= self.sell_orders[0].price:\n",
    "            buy_order = self.buy_orders[0]\n",
    "            sell_order = self.sell_orders[0]\n",
    "            executed_quantity = min(buy_order.quantity, sell_order.quantity)\n",
    "            executed_price = sell_order.price\n",
    "            \n",
    "            print(f\"Executed order: {executed_quantity} at {executed_price}\")\n",
    "            \n",
    "            if buy_order.quantity > sell_order.quantity:\n",
    "                buy_order.quantity -= executed_quantity\n",
    "                self.sell_orders.pop(0)\n",
    "            elif buy_order.quantity < sell_order.quantity:\n",
    "                sell_order.quantity -= executed_quantity\n",
    "                self.buy_orders.pop(0)\n",
    "            else:\n",
    "                self.buy_orders.pop(0)\n",
    "                self.sell_orders.pop(0)"
   ]
  }
 ],
 "metadata": {
  "kernelspec": {
   "display_name": "Python 3 (ipykernel)",
   "language": "python",
   "name": "python3"
  },
  "language_info": {
   "codemirror_mode": {
    "name": "ipython",
    "version": 3
   },
   "file_extension": ".py",
   "mimetype": "text/x-python",
   "name": "python",
   "nbconvert_exporter": "python",
   "pygments_lexer": "ipython3",
   "version": "3.12.2"
  }
 },
 "nbformat": 4,
 "nbformat_minor": 5
}

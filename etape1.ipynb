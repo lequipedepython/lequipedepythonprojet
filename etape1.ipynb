class Ordre:
    def __init__(self, identifiant, type_ordre, quantite, prix):
        self.identifiant = identifiant
        self.type_ordre = type_ordre
        self.quantite = quantite
        self.prix = prix

class CarnetOrdres:
    def __init__(self):
        self.ordres_achat = []
        self.ordres_vente = []

    def ajouter_ordre(self, ordre):
        if ordre.type_ordre == 'achat':
            self.ordres_achat.append(ordre)
            # Trier les ordres d'achat : prix le plus élevé en premier, puis par identifiant
            self.ordres_achat.sort(key=lambda x: (-x.prix, x.identifiant))
        elif ordre.type_ordre == 'vente':
            self.ordres_vente.append(ordre)
            # Trier les ordres de vente : prix le plus bas en premier, puis par identifiant
            self.ordres_vente.sort(key=lambda x: (x.prix, x.identifiant))
        else:
            raise ValueError("Le type d'ordre doit être 'achat' ou 'vente'")
        self.executer_ordres()

    def executer_ordres(self):
        # Exécuter tant qu'il y a un ordre d'achat et de vente correspondants
        while self.ordres_achat and self.ordres_vente and self.ordres_achat[0].prix >= self.ordres_vente[0].prix:
            ordre_achat = self.ordres_achat[0]
            ordre_vente = self.ordres_vente[0]
            quantite_executee = min(ordre_achat.quantite, ordre_vente.quantite)
            prix_execute = ordre_vente.prix
            
            print(f"Ordre exécuté : {quantite_executee} actions à {prix_execute} € par action")
            
            # Mettre à jour les quantités ou retirer les ordres de la liste
            ordre_achat.quantite -= quantite_executee
            ordre_vente.quantite -= quantite_executee
            
            if ordre_achat.quantite == 0:
                self.ordres_achat.pop(0)
            if ordre_vente.quantite == 0:
                self.ordres_vente.pop(0)

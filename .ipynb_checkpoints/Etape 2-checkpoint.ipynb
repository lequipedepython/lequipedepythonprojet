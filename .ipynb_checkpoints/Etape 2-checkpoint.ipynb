{
 "cells": [
  {
   "cell_type": "markdown",
   "id": "a228ab13-437d-43af-b3be-23b0f2c04b77",
   "metadata": {},
   "source": [
    "Mécanisme de Fixing"
   ]
  },
  {
   "cell_type": "code",
   "execution_count": null,
   "id": "c8c6255f-62d2-49b1-9ce8-7b42c7c5932c",
   "metadata": {},
   "outputs": [],
   "source": [
    "def mecanisme_fixing(self):\n",
    "    # Calcul du prix de fixing basé sur le volume maximal d'ordres correspondants\n",
    "    if self.ordres_achat and self.ordres_vente:  # Vérifie qu'il existe à la fois des ordres d'achat et de vente\n",
    "        prix_fixing = None  # Initialisation du prix de fixing à None\n",
    "        quantite_maximale = 0  # Initialisation de la quantité maximale échangée à 0\n",
    "\n",
    "        # On parcourt tous les prix uniques présents dans les ordres d'achat et de vente\n",
    "        for prix in set(o.prix for o in self.ordres_achat + self.ordres_vente):\n",
    "            # Calcul de la quantité totale échangeable à ce prix en ajoutant les quantités minimales des deux côtés\n",
    "            quantite_totale = sum(\n",
    "                min(o.quantite for o in self.ordres_achat if o.prix >= prix) +  # Quantité minimale d'achat au prix donné ou plus élevé\n",
    "                min(o.quantite for o in self.ordres_vente if o.prix <= prix)    # Quantité minimale de vente au prix donné ou moins élevé\n",
    "            )\n",
    "\n",
    "            # Mise à jour du prix de fixing si la quantité totale échangée est la plus élevée trouvée jusqu'à présent\n",
    "            if quantite_totale > quantite_maximale:\n",
    "                quantite_maximale = quantite_totale  # Mise à jour de la quantité maximale\n",
    "                prix_fixing = prix  # Mise à jour du prix de fixing\n",
    "\n",
    "        # Affichage du prix de fixing et de la quantité maximale correspondante\n",
    "        print(f\"Prix de fixing : {prix_fixing} avec quantité totale : {quantite_maximale}\")\n"
   ]
  }
 ],
 "metadata": {
  "kernelspec": {
   "display_name": "Python 3 (ipykernel)",
   "language": "python",
   "name": "python3"
  },
  "language_info": {
   "codemirror_mode": {
    "name": "ipython",
    "version": 3
   },
   "file_extension": ".py",
   "mimetype": "text/x-python",
   "name": "python",
   "nbconvert_exporter": "python",
   "pygments_lexer": "ipython3",
   "version": "3.12.2"
  }
 },
 "nbformat": 4,
 "nbformat_minor": 5
}

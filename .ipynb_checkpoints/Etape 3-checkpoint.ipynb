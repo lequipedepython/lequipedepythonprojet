{
 "cells": [
  {
   "cell_type": "markdown",
   "id": "e94f5eff-c44f-4655-8104-0c2948cbcdbd",
   "metadata": {},
   "source": [
    "Interface Utilisateur Simplifiée"
   ]
  },
  {
   "cell_type": "code",
   "execution_count": null,
   "id": "a5686b90-8ae3-448d-be9c-813d7bfed0e9",
   "metadata": {},
   "outputs": [],
   "source": [
    "def main():\n",
    "    carnet_ordres = CarnetOrdres()  # Création d'un nouvel objet CarnetOrdres pour gérer les ordres\n",
    "    \n",
    "    while True:\n",
    "        # Boucle principale pour interagir avec l'utilisateur\n",
    "        action = input(\"Action (ajouter/fixer/sortir): \")  # Demande à l'utilisateur de choisir une action\n",
    "\n",
    "        if action == 'ajouter':\n",
    "            # Si l'utilisateur choisit d'ajouter un ordre\n",
    "            identifiant = int(input(\"Identifiant de l'ordre : \"))  # Demande de l'identifiant de l'ordre\n",
    "            type_ordre = input(\"Type d'ordre (achat/vente) : \")  # Demande du type d'ordre, achat ou vente\n",
    "            quantite = int(input(\"Quantité : \"))  # Demande de la quantité d'actions à acheter ou vendre\n",
    "            prix = float(input(\"Prix : \"))  # Demande du prix unitaire des actions\n",
    "\n",
    "            ordre = Ordre(identifiant, type_ordre, quantite, prix)  # Création d'un nouvel ordre avec les informations saisies\n",
    "            carnet_ordres.ajouter_ordre(ordre)  # Ajout de l'ordre au carnet d'ordres\n",
    "\n",
    "        elif action == 'fixer':\n",
    "            # Si l'utilisateur choisit de fixer le prix de marché\n",
    "            carnet_ordres.mecanisme_fixing()  # Appel de la méthode de fixing pour déterminer le prix de marché optimal\n",
    "\n",
    "        elif action == 'sortir':\n",
    "            # Si l'utilisateur choisit de sortir du programme\n",
    "            break  # Sortie de la boucle et fin du programme\n",
    "\n",
    "# Ce bloc vérifie si le script est exécuté directement (et non importé)\n",
    "if __name__ == \"__main__\":\n",
    "    main()  # Exécution de la fonction main si le script est exécuté directement\n"
   ]
  }
 ],
 "metadata": {
  "kernelspec": {
   "display_name": "Python 3 (ipykernel)",
   "language": "python",
   "name": "python3"
  },
  "language_info": {
   "codemirror_mode": {
    "name": "ipython",
    "version": 3
   },
   "file_extension": ".py",
   "mimetype": "text/x-python",
   "name": "python",
   "nbconvert_exporter": "python",
   "pygments_lexer": "ipython3",
   "version": "3.12.2"
  }
 },
 "nbformat": 4,
 "nbformat_minor": 5
}

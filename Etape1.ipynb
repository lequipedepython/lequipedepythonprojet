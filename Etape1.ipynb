{
 "cells": [
  {
   "cell_type": "markdown",
   "id": "5cd4b933-834a-4b91-896b-0538d7445164",
   "metadata": {},
   "source": [
    "Structure de Base"
   ]
  },
  {
   "cell_type": "code",
   "execution_count": null,
   "id": "78b55fcb-6eb5-4426-b5b5-c1487c9e81c6",
   "metadata": {},
   "outputs": [],
   "source": [
    "import datetime\n",
    "import uuid\n",
    "import csv\n",
    "\n",
    "class Ordre:\n",
    "    def __init__(self, client_id: int, type_ordre: str, quantite: float, prix: float, identifiant: str = None):\n",
    "        \"\"\"\n",
    "        Constructeur de la classe Ordre.\n",
    "        Args:\n",
    "            client_id (int): Identifiant du client qui passe l'ordre.\n",
    "            type_ordre (str): Type de l'ordre ('achat' ou 'vente').\n",
    "            quantite (float): Quantité de l'ordre.\n",
    "            prix (float): Prix de l'ordre.\n",
    "            identifiant (str): Identifiant unique de l'ordre, généré automatiquement si non fourni.\n",
    "        \"\"\"\n",
    "        self.client_id = client_id  # Stocke l'identifiant du client\n",
    "        self.identifiant = identifiant if identifiant else uuid.uuid4().hex[:8]  # Génère un identifiant unique si non fourni\n",
    "        self.type_ordre = type_ordre.lower()  # Convertit le type d'ordre en minuscules pour uniformité\n",
    "        self.quantite = quantite  # Stocke la quantité de l'ordre\n",
    "        self.prix = prix  # Stocke le prix de l'ordre\n",
    "        self.timestamp = datetime.datetime.now()  # Horodatage de l'ordre lors de sa création\n",
    "\n",
    "class CarnetOrdres:\n",
    "    def __init__(self):\n",
    "        \"\"\"\n",
    "        Constructeur de la classe CarnetOrdres.\n",
    "        \"\"\"\n",
    "        self.ordres_achat = []  # Liste pour stocker les ordres d'achat\n",
    "        self.ordres_vente = []  # Liste pour stocker les ordres de vente\n",
    "        self.unique_order_ids = set()  # Ensemble pour éviter les doublons d'identifiants\n",
    "        self.initialiser_csv()  # Initialise les fichiers CSV pour enregistrer les ordres et les transactions\n",
    "\n",
    "    def initialiser_csv(self):\n",
    "        \"\"\"\n",
    "        Initialise les fichiers CSV pour enregistrer les ordres et les transactions.\n",
    "        Crée ou écrase les fichiers 'ordres.csv' et 'transactions.csv' avec les en-têtes appropriés.\n",
    "        \"\"\"\n",
    "        with open('ordres.csv', 'w', newline='') as fichier:\n",
    "            writer = csv.writer(fichier)\n",
    "            writer.writerow([\"Type\", \"Client ID\", \"Ordre ID\", \"Quantité\", \"Prix\", \"Timestamp\"])\n",
    "        with open('transactions.csv', 'w', newline='') as fichier:\n",
    "            writer = csv.writer(fichier)\n",
    "            writer.writerow([\"Achat ID\", \"Vente ID\", \"Quantité Exécutée\", \"Prix Exécuté\", \"Timestamp\"])\n"
   ]
  }
 ],
 "metadata": {
  "kernelspec": {
   "display_name": "Python 3 (ipykernel)",
   "language": "python",
   "name": "python3"
  },
  "language_info": {
   "codemirror_mode": {
    "name": "ipython",
    "version": 3
   },
   "file_extension": ".py",
   "mimetype": "text/x-python",
   "name": "python",
   "nbconvert_exporter": "python",
   "pygments_lexer": "ipython3",
   "version": "3.12.2"
  }
 },
 "nbformat": 4,
 "nbformat_minor": 5
}

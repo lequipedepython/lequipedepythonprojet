{
 "cells": [
  {
   "cell_type": "markdown",
   "id": "6cfbc0f7-3748-4a87-b2ee-e8fb0f3f4786",
   "metadata": {},
   "source": [
    "Amélioration du Mécanisme de Fixing"
   ]
  },
  {
   "cell_type": "code",
   "execution_count": null,
   "id": "9e7359a2-2218-4b3c-839c-ce2dad04d780",
   "metadata": {},
   "outputs": [],
   "source": [
    "def determine_fixing_price(self):\n",
    "    if not self.buy_orders or not self.sell_orders:\n",
    "        print(\"Not enough orders to determine fixing price.\")\n",
    "        return None\n",
    "\n",
    "    # On créer un dictionnaire pour stocker le volume total exécutable à chaque prix\n",
    "    executable_volumes = {}\n",
    "    for buy_order in self.buy_orders:\n",
    "        for sell_order in self.sell_orders:\n",
    "            if buy_order.price >= sell_order.price:\n",
    "                price = sell_order.price\n",
    "                executable_volumes[price] = executable_volumes.get(price, 0) + min(buy_order.quantity, sell_order.quantity)\n",
    "                \n",
    "    if not executable_volumes:\n",
    "        print(\"No matching orders for fixing.\")\n",
    "        return None\n",
    "\n",
    "    # On trouve le prix avec le volume exécutable maximal\n",
    "    fixing_price = max(executable_volumes, key=executable_volumes.get)\n",
    "    print(f\"Fixing price determined: {fixing_price} with total volume: {executable_volumes[fixing_price]}\")\n",
    "    return fixing_price\n",
    "\n",
    "def perform_fixing(self):\n",
    "    fixing_price = self.determine_fixing_price()\n",
    "    if fixing_price is not None:\n",
    "        self.execute_orders_at_fixing_price(fixing_price)\n",
    "\n",
    "def execute_orders_at_fixing_price(self, fixing_price):\n",
    "    # Cette fonction exécuterait les ordres au prix de fixing, similaire à execute_orders mais spécifique pour le fixing\n",
    "    pass"
   ]
  },
  {
   "cell_type": "markdown",
   "id": "9584c1c4-d1a8-4fab-acd4-07448def0ded",
   "metadata": {},
   "source": [
    "Amélioration de l'Interface Utilisateur"
   ]
  },
  {
   "cell_type": "code",
   "execution_count": null,
   "id": "4b6fe81d-fefd-4609-9ab6-9e0e9de2fd18",
   "metadata": {},
   "outputs": [],
   "source": [
    "def main():\n",
    "    order_book = OrderBook()\n",
    "    while True:\n",
    "        print(\"\\n1. Add Order\\n2. Perform Fixing\\n3. View Order Book\\n4. Exit\")\n",
    "        action = input(\"Choose an action: \")\n",
    "        if action == '1':\n",
    "            order_id = int(input(\"Order ID: \"))\n",
    "            order_type = input(\"Order Type (buy/sell): \")\n",
    "            quantity = int(input(\"Quantity: \"))\n",
    "            price = float(input(\"Price: \"))\n",
    "            order = Order(order_id, order_type, quantity, price)\n",
    "            order_book.add_order(order)\n",
    "        elif action == '2':\n",
    "            order_book.perform_fixing()\n",
    "        elif action == '3':\n",
    "            print(\"Buy Orders:\")\n",
    "            for order in order_book.buy_orders:\n",
    "                print(f\"ID: {order.order_id}, Price: {order.price}, Quantity: {order.quantity}\")\n",
    "            print(\"Sell Orders:\")\n",
    "            for order in order_book.sell_orders:\n",
    "                print(f\"ID: {order.order_id}, Price: {order.price}, Quantity: {order.quantity}\")\n",
    "        elif action == '4':\n",
    "            break\n",
    "        else:\n",
    "            print(\"Invalid action. Please choose a valid option.\")"
   ]
  }
 ],
 "metadata": {
  "kernelspec": {
   "display_name": "Python 3 (ipykernel)",
   "language": "python",
   "name": "python3"
  },
  "language_info": {
   "codemirror_mode": {
    "name": "ipython",
    "version": 3
   },
   "file_extension": ".py",
   "mimetype": "text/x-python",
   "name": "python",
   "nbconvert_exporter": "python",
   "pygments_lexer": "ipython3",
   "version": "3.12.2"
  }
 },
 "nbformat": 4,
 "nbformat_minor": 5
}
